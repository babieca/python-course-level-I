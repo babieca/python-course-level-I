{
 "cells": [
  {
   "cell_type": "markdown",
   "metadata": {
    "slideshow": {
     "slide_type": "slide"
    }
   },
   "source": [
    "$$\n",
    "\\def\\CC{\\bf C}\n",
    "\\def\\QQ{\\bf Q}\n",
    "\\def\\RR{\\bf R}\n",
    "\\def\\ZZ{\\bf Z}\n",
    "\\def\\NN{\\bf N}\n",
    "$$\n",
    "# Control Flow Tools"
   ]
  },
  {
   "cell_type": "markdown",
   "metadata": {
    "slideshow": {
     "slide_type": "slide"
    }
   },
   "source": [
    "## `!while` Statements\n",
    "\n",
    "With the while loop we can execute a set of statements as long as a condition is true."
   ]
  },
  {
   "cell_type": "code",
   "execution_count": 1,
   "metadata": {
    "slideshow": {
     "slide_type": "slide"
    }
   },
   "outputs": [
    {
     "name": "stdout",
     "output_type": "stream",
     "text": [
      "1\n",
      "2\n",
      "3\n",
      "4\n",
      "5\n"
     ]
    }
   ],
   "source": [
    "i = 1\n",
    "while i < 6:\n",
    "    print(i)\n",
    "    i += 1"
   ]
  },
  {
   "cell_type": "markdown",
   "metadata": {
    "slideshow": {
     "slide_type": "slide"
    }
   },
   "source": [
    "## `!if` Statements\n",
    "\n",
    "Perhaps the most well-known statement type is the `if` statement. For\n",
    "example:"
   ]
  },
  {
   "cell_type": "code",
   "execution_count": 2,
   "metadata": {
    "slideshow": {
     "slide_type": "slide"
    }
   },
   "outputs": [
    {
     "name": "stdout",
     "output_type": "stream",
     "text": [
      "Please enter an integer: 45\n"
     ]
    }
   ],
   "source": [
    "x = int(input(\"Please enter an integer: \"))"
   ]
  },
  {
   "cell_type": "code",
   "execution_count": 3,
   "metadata": {
    "slideshow": {
     "slide_type": "slide"
    }
   },
   "outputs": [
    {
     "name": "stdout",
     "output_type": "stream",
     "text": [
      "More\n"
     ]
    }
   ],
   "source": [
    "if x < 0:\n",
    "    x = 0\n",
    "    print('Negative changed to zero')\n",
    "elif x == 0:\n",
    "    print('Zero')\n",
    "elif x == 1:\n",
    "    print('Single')\n",
    "else:\n",
    "    print('More')"
   ]
  },
  {
   "cell_type": "markdown",
   "metadata": {
    "slideshow": {
     "slide_type": "slide"
    }
   },
   "source": [
    "There can be zero or more `elif` parts, and the `else` part is optional.\n",
    "The keyword '`elif`' is short for 'else if', and is useful to avoid\n",
    "excessive indentation. An `if` ... `elif` ... `elif` ... sequence is\n",
    "a substitute for the `switch` or `case` statements found in other\n",
    "languages."
   ]
  },
  {
   "cell_type": "markdown",
   "metadata": {
    "slideshow": {
     "slide_type": "slide"
    }
   },
   "source": [
    "## `!for` Statements\n",
    "\n",
    "\n",
    "The `for` statement in Python differs a bit from what you may be used to\n",
    "in C or Pascal. Rather than always iterating over an arithmetic\n",
    "progression of numbers (like in Pascal), or giving the user the ability\n",
    "to define both the iteration step and halting condition (as C), Python's\n",
    "`for` statement iterates over the items of any sequence (a list or a\n",
    "string), in the order that they appear in the sequence."
   ]
  },
  {
   "cell_type": "code",
   "execution_count": 4,
   "metadata": {
    "slideshow": {
     "slide_type": "slide"
    }
   },
   "outputs": [
    {
     "name": "stdout",
     "output_type": "stream",
     "text": [
      "cat 3\n",
      "window 6\n",
      "defenestrate 12\n"
     ]
    }
   ],
   "source": [
    "# Measure some strings:\n",
    "words = ['cat', 'window', 'defenestrate']\n",
    "for w in words:\n",
    "    print(w, len(w))"
   ]
  },
  {
   "cell_type": "markdown",
   "metadata": {
    "slideshow": {
     "slide_type": "slide"
    }
   },
   "source": [
    "Code that modifies a collection while iterating over that same\n",
    "collection can be tricky to get right. Instead, it is usually more\n",
    "straight-forward to loop over a copy of the collection or to create a\n",
    "new collection:"
   ]
  },
  {
   "cell_type": "code",
   "execution_count": 6,
   "metadata": {
    "slideshow": {
     "slide_type": "slide"
    }
   },
   "outputs": [
    {
     "ename": "NameError",
     "evalue": "name 'users' is not defined",
     "output_type": "error",
     "traceback": [
      "\u001b[1;31m---------------------------------------------------------------------------\u001b[0m",
      "\u001b[1;31mNameError\u001b[0m                                 Traceback (most recent call last)",
      "\u001b[1;32m<ipython-input-6-2117be6da0eb>\u001b[0m in \u001b[0;36m<module>\u001b[1;34m\u001b[0m\n\u001b[0;32m      1\u001b[0m \u001b[1;31m# Strategy:  Iterate over a copy\u001b[0m\u001b[1;33m\u001b[0m\u001b[1;33m\u001b[0m\u001b[1;33m\u001b[0m\u001b[0m\n\u001b[1;32m----> 2\u001b[1;33m \u001b[1;32mfor\u001b[0m \u001b[0muser\u001b[0m\u001b[1;33m,\u001b[0m \u001b[0mstatus\u001b[0m \u001b[1;32min\u001b[0m \u001b[0musers\u001b[0m\u001b[1;33m.\u001b[0m\u001b[0mcopy\u001b[0m\u001b[1;33m(\u001b[0m\u001b[1;33m)\u001b[0m\u001b[1;33m.\u001b[0m\u001b[0mitems\u001b[0m\u001b[1;33m(\u001b[0m\u001b[1;33m)\u001b[0m\u001b[1;33m:\u001b[0m\u001b[1;33m\u001b[0m\u001b[1;33m\u001b[0m\u001b[0m\n\u001b[0m\u001b[0;32m      3\u001b[0m     \u001b[1;32mif\u001b[0m \u001b[0mstatus\u001b[0m \u001b[1;33m==\u001b[0m \u001b[1;34m'inactive'\u001b[0m\u001b[1;33m:\u001b[0m\u001b[1;33m\u001b[0m\u001b[1;33m\u001b[0m\u001b[0m\n\u001b[0;32m      4\u001b[0m         \u001b[1;32mdel\u001b[0m \u001b[0musers\u001b[0m\u001b[1;33m[\u001b[0m\u001b[0muser\u001b[0m\u001b[1;33m]\u001b[0m\u001b[1;33m\u001b[0m\u001b[1;33m\u001b[0m\u001b[0m\n",
      "\u001b[1;31mNameError\u001b[0m: name 'users' is not defined"
     ]
    }
   ],
   "source": [
    "# Strategy:  Iterate over a copy\n",
    "for user, status in users.copy().items():\n",
    "    if status == 'inactive':\n",
    "        del users[user]"
   ]
  },
  {
   "cell_type": "code",
   "execution_count": 5,
   "metadata": {
    "slideshow": {
     "slide_type": "slide"
    }
   },
   "outputs": [
    {
     "ename": "NameError",
     "evalue": "name 'users' is not defined",
     "output_type": "error",
     "traceback": [
      "\u001b[1;31m---------------------------------------------------------------------------\u001b[0m",
      "\u001b[1;31mNameError\u001b[0m                                 Traceback (most recent call last)",
      "\u001b[1;32m<ipython-input-5-d13c7886b0db>\u001b[0m in \u001b[0;36m<module>\u001b[1;34m\u001b[0m\n\u001b[0;32m      1\u001b[0m \u001b[1;31m# Strategy:  Create a new collection\u001b[0m\u001b[1;33m\u001b[0m\u001b[1;33m\u001b[0m\u001b[1;33m\u001b[0m\u001b[0m\n\u001b[0;32m      2\u001b[0m \u001b[0mactive_users\u001b[0m \u001b[1;33m=\u001b[0m \u001b[1;33m{\u001b[0m\u001b[1;33m}\u001b[0m\u001b[1;33m\u001b[0m\u001b[1;33m\u001b[0m\u001b[0m\n\u001b[1;32m----> 3\u001b[1;33m \u001b[1;32mfor\u001b[0m \u001b[0muser\u001b[0m\u001b[1;33m,\u001b[0m \u001b[0mstatus\u001b[0m \u001b[1;32min\u001b[0m \u001b[0musers\u001b[0m\u001b[1;33m.\u001b[0m\u001b[0mitems\u001b[0m\u001b[1;33m(\u001b[0m\u001b[1;33m)\u001b[0m\u001b[1;33m:\u001b[0m\u001b[1;33m\u001b[0m\u001b[1;33m\u001b[0m\u001b[0m\n\u001b[0m\u001b[0;32m      4\u001b[0m     \u001b[1;32mif\u001b[0m \u001b[0mstatus\u001b[0m \u001b[1;33m==\u001b[0m \u001b[1;34m'active'\u001b[0m\u001b[1;33m:\u001b[0m\u001b[1;33m\u001b[0m\u001b[1;33m\u001b[0m\u001b[0m\n\u001b[0;32m      5\u001b[0m         \u001b[0mactive_users\u001b[0m\u001b[1;33m[\u001b[0m\u001b[0muser\u001b[0m\u001b[1;33m]\u001b[0m \u001b[1;33m=\u001b[0m \u001b[0mstatus\u001b[0m\u001b[1;33m\u001b[0m\u001b[1;33m\u001b[0m\u001b[0m\n",
      "\u001b[1;31mNameError\u001b[0m: name 'users' is not defined"
     ]
    }
   ],
   "source": [
    "# Strategy:  Create a new collection\n",
    "active_users = {}\n",
    "for user, status in users.items():\n",
    "    if status == 'active':\n",
    "        active_users[user] = status"
   ]
  },
  {
   "cell_type": "markdown",
   "metadata": {
    "slideshow": {
     "slide_type": "slide"
    }
   },
   "source": [
    "## The `range` Function\n",
    "\n",
    "If you do need to iterate over a sequence of numbers, the built-in\n",
    "function `range` comes in handy. It generates arithmetic progressions:"
   ]
  },
  {
   "cell_type": "code",
   "execution_count": 7,
   "metadata": {
    "slideshow": {
     "slide_type": "slide"
    }
   },
   "outputs": [
    {
     "name": "stdout",
     "output_type": "stream",
     "text": [
      "0\n",
      "1\n",
      "2\n",
      "3\n",
      "4\n"
     ]
    }
   ],
   "source": [
    "for i in range(5):\n",
    "    print(i)"
   ]
  },
  {
   "cell_type": "markdown",
   "metadata": {
    "slideshow": {
     "slide_type": "slide"
    }
   },
   "source": [
    "The given end point is never part of the generated sequence; `range(10)`\n",
    "generates 10 values, the legal indices for items of a sequence of length\n",
    "10. It is possible to let the range start at another number, or to\n",
    "specify a different increment (even negative; sometimes this is called\n",
    "the 'step'):"
   ]
  },
  {
   "cell_type": "code",
   "execution_count": 8,
   "metadata": {
    "slideshow": {
     "slide_type": "slide"
    }
   },
   "outputs": [
    {
     "ename": "IndentationError",
     "evalue": "unexpected indent (<ipython-input-8-7f35ee86b804>, line 2)",
     "output_type": "error",
     "traceback": [
      "\u001b[1;36m  File \u001b[1;32m\"<ipython-input-8-7f35ee86b804>\"\u001b[1;36m, line \u001b[1;32m2\u001b[0m\n\u001b[1;33m    5, 6, 7, 8, 9\u001b[0m\n\u001b[1;37m    ^\u001b[0m\n\u001b[1;31mIndentationError\u001b[0m\u001b[1;31m:\u001b[0m unexpected indent\n"
     ]
    }
   ],
   "source": [
    "range(5, 10)\n",
    "   5, 6, 7, 8, 9\n",
    "\n",
    "range(0, 10, 3)\n",
    "   0, 3, 6, 9\n",
    "\n",
    "range(-10, -100, -30)\n",
    "  -10, -40, -70"
   ]
  },
  {
   "cell_type": "markdown",
   "metadata": {
    "slideshow": {
     "slide_type": "slide"
    }
   },
   "source": [
    "To iterate over the indices of a sequence, you can combine `range` and\n",
    "`len` as follows:"
   ]
  },
  {
   "cell_type": "code",
   "execution_count": 9,
   "metadata": {
    "slideshow": {
     "slide_type": "slide"
    }
   },
   "outputs": [
    {
     "name": "stdout",
     "output_type": "stream",
     "text": [
      "0 Mary\n",
      "1 had\n",
      "2 a\n",
      "3 little\n",
      "4 lamb\n"
     ]
    }
   ],
   "source": [
    "a = ['Mary', 'had', 'a', 'little', 'lamb']\n",
    "for i in range(len(a)):\n",
    "    print(i, a[i])"
   ]
  },
  {
   "cell_type": "markdown",
   "metadata": {
    "slideshow": {
     "slide_type": "slide"
    }
   },
   "source": [
    "In most such cases, however, it is convenient to use the `enumerate` function"
   ]
  },
  {
   "cell_type": "code",
   "execution_count": 10,
   "metadata": {},
   "outputs": [
    {
     "name": "stdout",
     "output_type": "stream",
     "text": [
      "1 apple\n",
      "2 banana\n",
      "3 grapes\n",
      "4 pear\n"
     ]
    }
   ],
   "source": [
    "my_list = ['apple', 'banana', 'grapes', 'pear']\n",
    "for c, value in enumerate(my_list, 1):\n",
    "    print(c, value)\n",
    "\n",
    "# Output:\n",
    "# 1 apple\n",
    "# 2 banana\n",
    "# 3 grapes\n",
    "# 4 pear"
   ]
  },
  {
   "cell_type": "markdown",
   "metadata": {
    "slideshow": {
     "slide_type": "slide"
    }
   },
   "source": [
    "A strange thing happens if you just print a range:"
   ]
  },
  {
   "cell_type": "code",
   "execution_count": null,
   "metadata": {
    "slideshow": {
     "slide_type": "slide"
    }
   },
   "outputs": [],
   "source": [
    "print(range(10))"
   ]
  },
  {
   "cell_type": "markdown",
   "metadata": {
    "slideshow": {
     "slide_type": "slide"
    }
   },
   "source": [
    "In many ways the object returned by `range` behaves as if it is a list,\n",
    "but in fact it isn't. It is an object which returns the successive items\n",
    "of the desired sequence when you iterate over it, but it doesn't really\n",
    "make the list, thus saving space.\n",
    "\n",
    "We say such an object is `iterable`, that is, suitable as a target for\n",
    "functions and constructs that expect something from which they can\n",
    "obtain successive items until the supply is exhausted. We have seen that\n",
    "the `for` statement is such a construct, while an example of function\n",
    "that takes an iterable is `sum` :"
   ]
  },
  {
   "cell_type": "code",
   "execution_count": null,
   "metadata": {
    "slideshow": {
     "slide_type": "slide"
    }
   },
   "outputs": [],
   "source": [
    "sum(range(4))  # 0 + 1 + 2 + 3"
   ]
  },
  {
   "cell_type": "markdown",
   "metadata": {
    "slideshow": {
     "slide_type": "slide"
    }
   },
   "source": [
    "Later we will see more functions that return iterables and take\n",
    "iterables as arguments. Lastly, maybe you are curious about how to get a\n",
    "list from a range. Here is the solution:"
   ]
  },
  {
   "cell_type": "code",
   "execution_count": null,
   "metadata": {
    "slideshow": {
     "slide_type": "slide"
    }
   },
   "outputs": [],
   "source": [
    "list(range(4))"
   ]
  },
  {
   "cell_type": "markdown",
   "metadata": {
    "slideshow": {
     "slide_type": "slide"
    }
   },
   "source": [
    "In chapter [tut-structures](tut-structures.ipynb), we will discuss in\n",
    "more detail about `list`.\n",
    "\n",
    "## `!break` and `!continue` Statements, and `!else` Clauses on Loops\n",
    "\n",
    "The `break` statement, like in C, breaks out of the innermost enclosing\n",
    "`for` or `while` loop.\n",
    "\n",
    "Loop statements may have an `!else` clause; it is executed when the loop\n",
    "terminates through exhaustion of the iterable (with `for`) or when the\n",
    "condition becomes false (with `while`), but not when the loop is\n",
    "terminated by a `break` statement. This is exemplified by the following\n",
    "loop, which searches for prime numbers:"
   ]
  },
  {
   "cell_type": "code",
   "execution_count": null,
   "metadata": {
    "slideshow": {
     "slide_type": "slide"
    }
   },
   "outputs": [],
   "source": [
    "for n in range(2, 10):\n",
    "    for x in range(2, n):\n",
    "        if n % x == 0:\n",
    "            print(n, 'equals', x, '*', n//x)\n",
    "            break\n",
    "    else:\n",
    "        # loop fell through without finding a factor\n",
    "        print(n, 'is a prime number')"
   ]
  },
  {
   "cell_type": "markdown",
   "metadata": {
    "slideshow": {
     "slide_type": "slide"
    }
   },
   "source": [
    "(Yes, this is the correct code. Look closely: the `else` clause belongs\n",
    "to the `for` loop, **not** the `if` statement.)\n",
    "\n",
    "When used with a loop, the `else` clause has more in common with the\n",
    "`else` clause of a `try` statement than it does with that of `if`\n",
    "statements: a `try` statement's `else` clause runs when no exception\n",
    "occurs, and a loop's `else` clause runs when no `break` occurs. For more\n",
    "on the `!try` statement and exceptions, see\n",
    "[tut-handling](tut-handling.ipynb).\n",
    "\n",
    "The `continue` statement, also borrowed from C, continues with the next\n",
    "iteration of the loop:"
   ]
  },
  {
   "cell_type": "code",
   "execution_count": null,
   "metadata": {
    "slideshow": {
     "slide_type": "slide"
    }
   },
   "outputs": [],
   "source": [
    "for num in range(2, 10):\n",
    "    if num % 2 == 0:\n",
    "        print(\"Found an even number\", num)\n",
    "        continue\n",
    "    print(\"Found a number\", num)"
   ]
  },
  {
   "cell_type": "markdown",
   "metadata": {
    "slideshow": {
     "slide_type": "slide"
    }
   },
   "source": [
    "## `!pass` Statements\n",
    "\n",
    "The `pass` statement does nothing. It can be used when a statement is\n",
    "required syntactically but the program requires no action. For example:"
   ]
  },
  {
   "cell_type": "code",
   "execution_count": null,
   "metadata": {
    "slideshow": {
     "slide_type": "slide"
    }
   },
   "outputs": [],
   "source": [
    "while True:\n",
    "    pass  # Busy-wait for keyboard interrupt (Ctrl+C)"
   ]
  },
  {
   "cell_type": "markdown",
   "metadata": {
    "slideshow": {
     "slide_type": "slide"
    }
   },
   "source": [
    "This is commonly used for creating minimal classes:"
   ]
  },
  {
   "cell_type": "code",
   "execution_count": null,
   "metadata": {
    "slideshow": {
     "slide_type": "slide"
    }
   },
   "outputs": [],
   "source": [
    "class MyEmptyClass:\n",
    "    pass"
   ]
  },
  {
   "cell_type": "markdown",
   "metadata": {
    "slideshow": {
     "slide_type": "slide"
    }
   },
   "source": [
    "Another place `pass` can be used is as a place-holder for a function or\n",
    "conditional body when you are working on new code, allowing you to keep\n",
    "thinking at a more abstract level. The `!pass` is silently ignored:"
   ]
  },
  {
   "cell_type": "code",
   "execution_count": null,
   "metadata": {
    "slideshow": {
     "slide_type": "slide"
    }
   },
   "outputs": [],
   "source": [
    "def initlog(*args):\n",
    "    pass   # Remember to implement this!"
   ]
  },
  {
   "cell_type": "markdown",
   "metadata": {
    "slideshow": {
     "slide_type": "slide"
    }
   },
   "source": [
    "## Defining Functions\n",
    "\n",
    "We can create a function that writes the Fibonacci series to an\n",
    "arbitrary boundary:"
   ]
  },
  {
   "cell_type": "code",
   "execution_count": null,
   "metadata": {
    "slideshow": {
     "slide_type": "slide"
    }
   },
   "outputs": [],
   "source": [
    "def fib(n):    # write Fibonacci series up to n\n",
    "    \"\"\"Print a Fibonacci series up to n.\"\"\"\n",
    "    a, b = 0, 1\n",
    "    while a < n:\n",
    "        print(a, end=' ')\n",
    "        a, b = b, a+b\n",
    "    print()\n",
    "\n",
    "# Now call the function we just defined:\n",
    "fib(2000)"
   ]
  },
  {
   "cell_type": "markdown",
   "metadata": {
    "slideshow": {
     "slide_type": "slide"
    }
   },
   "source": [
    "single: documentation strings single: docstrings single: strings,\n",
    "documentation\n",
    "\n",
    "The keyword `def` introduces a function *definition*. It must be\n",
    "followed by the function name and the parenthesized list of formal\n",
    "parameters. The statements that form the body of the function start at\n",
    "the next line, and must be indented.\n",
    "\n",
    "The first statement of the function body can optionally be a string\n",
    "literal; this string literal is the function's documentation string, or\n",
    "`docstring`. (More about docstrings can be found in the section\n",
    "[tut-docstrings](tut-docstrings.ipynb).) There are tools which use\n",
    "docstrings to automatically produce online or printed documentation, or\n",
    "to let the user interactively browse through code; it's good practice to\n",
    "include docstrings in code that you write, so make a habit of it.\n",
    "\n",
    "The *execution* of a function introduces a new symbol table used for the\n",
    "local variables of the function. More precisely, all variable\n",
    "assignments in a function store the value in the local symbol table;\n",
    "whereas variable references first look in the local symbol table, then\n",
    "in the local symbol tables of enclosing functions, then in the global\n",
    "symbol table, and finally in the table of built-in names. Thus, global\n",
    "variables and variables of enclosing functions cannot be directly\n",
    "assigned a value within a function (unless, for global variables, named\n",
    "in a `global` statement, or, for variables of enclosing functions, named\n",
    "in a `nonlocal` statement), although they may be referenced.\n",
    "\n",
    "The actual parameters (arguments) to a function call are introduced in\n",
    "the local symbol table of the called function when it is called; thus,\n",
    "arguments are passed using *call by value* (where the *value* is always\n",
    "an object *reference*, not the value of the object).[1] When a function\n",
    "calls another function, a new local symbol table is created for that\n",
    "call.\n",
    "\n",
    "A function definition introduces the function name in the current symbol\n",
    "table. The value of the function name has a type that is recognized by\n",
    "the interpreter as a user-defined function. This value can be assigned\n",
    "to another name which can then also be used as a function. This serves\n",
    "as a general renaming mechanism:"
   ]
  },
  {
   "cell_type": "code",
   "execution_count": null,
   "metadata": {
    "slideshow": {
     "slide_type": "slide"
    }
   },
   "outputs": [],
   "source": [
    "fib"
   ]
  },
  {
   "cell_type": "code",
   "execution_count": null,
   "metadata": {
    "slideshow": {
     "slide_type": "slide"
    }
   },
   "outputs": [],
   "source": [
    "f = fib\n",
    "f(100)"
   ]
  },
  {
   "cell_type": "markdown",
   "metadata": {
    "slideshow": {
     "slide_type": "slide"
    }
   },
   "source": [
    "Coming from other languages, you might object that `fib` is not a\n",
    "function but a procedure since it doesn't return a value. In fact, even\n",
    "functions without a `return` statement do return a value, albeit a\n",
    "rather boring one. This value is called `None` (it's a built-in name).\n",
    "Writing the value `None` is normally suppressed by the interpreter if it\n",
    "would be the only value written. You can see it if you really want to\n",
    "using `print` :"
   ]
  },
  {
   "cell_type": "code",
   "execution_count": null,
   "metadata": {
    "slideshow": {
     "slide_type": "slide"
    }
   },
   "outputs": [],
   "source": [
    "fib(0)\n",
    "print(fib(0))"
   ]
  },
  {
   "cell_type": "markdown",
   "metadata": {
    "slideshow": {
     "slide_type": "slide"
    }
   },
   "source": [
    "It is simple to write a function that returns a list of the numbers of\n",
    "the Fibonacci series, instead of printing it:"
   ]
  },
  {
   "cell_type": "code",
   "execution_count": null,
   "metadata": {
    "slideshow": {
     "slide_type": "slide"
    }
   },
   "outputs": [],
   "source": [
    "def fib2(n):  # return Fibonacci series up to n\n",
    "    \"\"\"Return a list containing the Fibonacci series up to n.\"\"\"\n",
    "    result = []\n",
    "    a, b = 0, 1\n",
    "    while a < n:\n",
    "        result.append(a)    # see below\n",
    "        a, b = b, a+b\n",
    "    return result\n",
    "\n",
    "f100 = fib2(100)    # call it\n",
    "f100                # write the result"
   ]
  },
  {
   "cell_type": "markdown",
   "metadata": {
    "slideshow": {
     "slide_type": "slide"
    }
   },
   "source": [
    "This example, as usual, demonstrates some new Python features:\n",
    "\n",
    "-   The `return` statement returns with a value from a function.\n",
    "    `!return` without an expression argument returns `None`. Falling off\n",
    "    the end of a function also returns `None`.\n",
    "-   The statement `result.append(a)` calls a *method* of the list object\n",
    "    `result`. A method is a function that 'belongs' to an object and is\n",
    "    named `obj.methodname`, where `obj` is some object (this may be an\n",
    "    expression), and `methodname` is the name of a method that is\n",
    "    defined by the object's type. Different types define different\n",
    "    methods. Methods of different types may have the same name without\n",
    "    causing ambiguity. (It is possible to define your own object types\n",
    "    and methods, using *classes*, see [tut-classes](tut-classes.ipynb))\n",
    "    The method `append` shown in the example is defined for list\n",
    "    objects; it adds a new element at the end of the list. In this\n",
    "    example it is equivalent to `result = result + [a]`, but more\n",
    "    efficient.\n",
    "\n",
    "## More on Defining Functions\n",
    "\n",
    "It is also possible to define functions with a variable number of\n",
    "arguments. There are three forms, which can be combined.\n",
    "\n",
    "### Default Argument Values\n",
    "\n",
    "The most useful form is to specify a default value for one or more\n",
    "arguments. This creates a function that can be called with fewer\n",
    "arguments than it is defined to allow. For example:"
   ]
  },
  {
   "cell_type": "code",
   "execution_count": null,
   "metadata": {
    "slideshow": {
     "slide_type": "slide"
    }
   },
   "outputs": [],
   "source": [
    "def ask_ok(prompt, retries=4, reminder='Please try again!'):\n",
    "    while True:\n",
    "        ok = input(prompt)\n",
    "        if ok in ('y', 'ye', 'yes'):\n",
    "            return True\n",
    "        if ok in ('n', 'no', 'nop', 'nope'):\n",
    "            return False\n",
    "        retries = retries - 1\n",
    "        if retries < 0:\n",
    "            raise ValueError('invalid user response')\n",
    "        print(reminder)"
   ]
  },
  {
   "cell_type": "markdown",
   "metadata": {
    "slideshow": {
     "slide_type": "slide"
    }
   },
   "source": [
    "This function can be called in several ways:\n",
    "\n",
    "-   giving only the mandatory argument:\n",
    "    `ask_ok('Do you really want to quit?')`\n",
    "-   giving one of the optional arguments:\n",
    "    `ask_ok('OK to overwrite the file?', 2)`\n",
    "-   or even giving all arguments:\n",
    "    `ask_ok('OK to overwrite the file?', 2, 'Come on, only yes or no!')`\n",
    "\n",
    "This example also introduces the `in` keyword. This tests whether or not\n",
    "a sequence contains a certain value.\n",
    "\n",
    "The default values are evaluated at the point of function definition in\n",
    "the *defining* scope, so that :"
   ]
  },
  {
   "cell_type": "code",
   "execution_count": null,
   "metadata": {
    "slideshow": {
     "slide_type": "slide"
    }
   },
   "outputs": [],
   "source": [
    "i = 5\n",
    "\n",
    "def f(arg=i):\n",
    "    print(arg)\n",
    "\n",
    "i = 6\n",
    "f()"
   ]
  },
  {
   "cell_type": "markdown",
   "metadata": {
    "slideshow": {
     "slide_type": "slide"
    }
   },
   "source": [
    "will print `5`.\n",
    "\n",
    "**Important warning:** The default value is evaluated only once. This\n",
    "makes a difference when the default is a mutable object such as a list,\n",
    "dictionary, or instances of most classes. For example, the following\n",
    "function accumulates the arguments passed to it on subsequent calls:"
   ]
  },
  {
   "cell_type": "code",
   "execution_count": null,
   "metadata": {
    "slideshow": {
     "slide_type": "slide"
    }
   },
   "outputs": [],
   "source": [
    "def f(a, L=[]):\n",
    "    L.append(a)\n",
    "    return L\n",
    "\n",
    "print(f(1))\n",
    "print(f(2))\n",
    "print(f(3))"
   ]
  },
  {
   "cell_type": "markdown",
   "metadata": {
    "slideshow": {
     "slide_type": "slide"
    }
   },
   "source": [
    "This will print :"
   ]
  },
  {
   "cell_type": "code",
   "execution_count": null,
   "metadata": {
    "slideshow": {
     "slide_type": "slide"
    }
   },
   "outputs": [],
   "source": [
    "[1]\n",
    "[1, 2]\n",
    "[1, 2, 3]"
   ]
  },
  {
   "cell_type": "markdown",
   "metadata": {
    "slideshow": {
     "slide_type": "slide"
    }
   },
   "source": [
    "If you don't want the default to be shared between subsequent calls, you\n",
    "can write the function like this instead:"
   ]
  },
  {
   "cell_type": "code",
   "execution_count": null,
   "metadata": {
    "slideshow": {
     "slide_type": "slide"
    }
   },
   "outputs": [],
   "source": [
    "def f(a, L=None):\n",
    "    if L is None:\n",
    "        L = []\n",
    "    L.append(a)\n",
    "    return L"
   ]
  },
  {
   "cell_type": "markdown",
   "metadata": {
    "slideshow": {
     "slide_type": "slide"
    }
   },
   "source": [
    "### Keyword Arguments\n",
    "\n",
    "Functions can also be called using\n",
    "`keyword arguments <keyword argument>` of the form `kwarg=value`. For\n",
    "instance, the following function:"
   ]
  },
  {
   "cell_type": "code",
   "execution_count": null,
   "metadata": {
    "slideshow": {
     "slide_type": "slide"
    }
   },
   "outputs": [],
   "source": [
    "def parrot(voltage, state='a stiff', action='voom', type='Norwegian Blue'):\n",
    "    print(\"-- This parrot wouldn't\", action, end=' ')\n",
    "    print(\"if you put\", voltage, \"volts through it.\")\n",
    "    print(\"-- Lovely plumage, the\", type)\n",
    "    print(\"-- It's\", state, \"!\")"
   ]
  },
  {
   "cell_type": "markdown",
   "metadata": {
    "slideshow": {
     "slide_type": "slide"
    }
   },
   "source": [
    "accepts one required argument (`voltage`) and three optional arguments\n",
    "(`state`, `action`, and `type`). This function can be called in any of\n",
    "the following ways:"
   ]
  },
  {
   "cell_type": "code",
   "execution_count": null,
   "metadata": {
    "slideshow": {
     "slide_type": "slide"
    }
   },
   "outputs": [],
   "source": [
    "parrot(1000)                                          # 1 positional argument\n",
    "parrot(voltage=1000)                                  # 1 keyword argument\n",
    "parrot(voltage=1000000, action='VOOOOOM')             # 2 keyword arguments\n",
    "parrot(action='VOOOOOM', voltage=1000000)             # 2 keyword arguments\n",
    "parrot('a million', 'bereft of life', 'jump')         # 3 positional arguments\n",
    "parrot('a thousand', state='pushing up the daisies')  # 1 positional, 1 keyword"
   ]
  },
  {
   "cell_type": "markdown",
   "metadata": {
    "slideshow": {
     "slide_type": "slide"
    }
   },
   "source": [
    "but all the following calls would be invalid:"
   ]
  },
  {
   "cell_type": "code",
   "execution_count": null,
   "metadata": {
    "slideshow": {
     "slide_type": "slide"
    }
   },
   "outputs": [],
   "source": [
    "parrot()                     # required argument missing\n",
    "parrot(voltage=5.0, 'dead')  # non-keyword argument after a keyword argument\n",
    "parrot(110, voltage=220)     # duplicate value for the same argument\n",
    "parrot(actor='John Cleese')  # unknown keyword argument"
   ]
  },
  {
   "cell_type": "markdown",
   "metadata": {
    "slideshow": {
     "slide_type": "slide"
    }
   },
   "source": [
    "In a function call, keyword arguments must follow positional arguments.\n",
    "All the keyword arguments passed must match one of the arguments\n",
    "accepted by the function (e.g. `actor` is not a valid argument for the\n",
    "`parrot` function), and their order is not important. This also includes\n",
    "non-optional arguments (e.g. `parrot(voltage=1000)` is valid too). No\n",
    "argument may receive a value more than once. Here's an example that\n",
    "fails due to this restriction:"
   ]
  },
  {
   "cell_type": "code",
   "execution_count": null,
   "metadata": {
    "slideshow": {
     "slide_type": "slide"
    }
   },
   "outputs": [],
   "source": [
    "def function(a):\n",
    "    pass\n",
    "\n",
    "function(0, a=0)"
   ]
  },
  {
   "cell_type": "markdown",
   "metadata": {
    "slideshow": {
     "slide_type": "slide"
    }
   },
   "source": [
    "When a final formal parameter of the form `**name` is present, it\n",
    "receives a dictionary (see [typesmapping](typesmapping.ipynb))\n",
    "containing all keyword arguments except for those corresponding to a\n",
    "formal parameter. This may be combined with a formal parameter of the\n",
    "form `*name` (described in the next subsection) which receives a\n",
    "[tuple](tut-tuples.ipynb) containing the positional arguments beyond the\n",
    "formal parameter list. (`*name` must occur before `**name`.) For\n",
    "example, if we define a function like this:"
   ]
  },
  {
   "cell_type": "code",
   "execution_count": null,
   "metadata": {
    "slideshow": {
     "slide_type": "slide"
    }
   },
   "outputs": [],
   "source": [
    "def cheeseshop(kind, *arguments, **keywords):\n",
    "    print(\"-- Do you have any\", kind, \"?\")\n",
    "    print(\"-- I'm sorry, we're all out of\", kind)\n",
    "    for arg in arguments:\n",
    "        print(arg)\n",
    "    print(\"-\" * 40)\n",
    "    for kw in keywords:\n",
    "        print(kw, \":\", keywords[kw])"
   ]
  },
  {
   "cell_type": "markdown",
   "metadata": {
    "slideshow": {
     "slide_type": "slide"
    }
   },
   "source": [
    "It could be called like this:"
   ]
  },
  {
   "cell_type": "code",
   "execution_count": null,
   "metadata": {
    "slideshow": {
     "slide_type": "slide"
    }
   },
   "outputs": [],
   "source": [
    "cheeseshop(\"Limburger\", \"It's very runny, sir.\",\n",
    "           \"It's really very, VERY runny, sir.\",\n",
    "           shopkeeper=\"Michael Palin\",\n",
    "           client=\"John Cleese\",\n",
    "           sketch=\"Cheese Shop Sketch\")"
   ]
  },
  {
   "cell_type": "markdown",
   "metadata": {
    "slideshow": {
     "slide_type": "slide"
    }
   },
   "source": [
    "and of course it would print:"
   ]
  },
  {
   "cell_type": "code",
   "execution_count": null,
   "metadata": {
    "slideshow": {
     "slide_type": "slide"
    }
   },
   "outputs": [],
   "source": [
    "-- Do you have any Limburger ?\n",
    "-- I'm sorry, we're all out of Limburger\n",
    "It's very runny, sir.\n",
    "It's really very, VERY runny, sir.\n",
    "----------------------------------------\n",
    "shopkeeper : Michael Palin\n",
    "client : John Cleese\n",
    "sketch : Cheese Shop Sketch"
   ]
  },
  {
   "cell_type": "markdown",
   "metadata": {
    "slideshow": {
     "slide_type": "slide"
    }
   },
   "source": [
    "Note that the order in which the keyword arguments are printed is\n",
    "guaranteed to match the order in which they were provided in the\n",
    "function call.\n",
    "\n",
    "### Special parameters\n",
    "\n",
    "By default, arguments may be passed to a Python function either by\n",
    "position or explicitly by keyword. For readability and performance, it\n",
    "makes sense to restrict the way arguments can be passed so that a\n",
    "developer need only look at the function definition to determine if\n",
    "items are passed by position, by position or keyword, or by keyword.\n",
    "\n",
    "A function definition may look like:"
   ]
  },
  {
   "cell_type": "code",
   "execution_count": null,
   "metadata": {
    "slideshow": {
     "slide_type": "slide"
    }
   },
   "outputs": [],
   "source": [
    "def f(pos1, pos2, /, pos_or_kwd, *, kwd1, kwd2):\n",
    "      -----------    ----------     ----------\n",
    "        |             |                  |\n",
    "        |        Positional or keyword   |\n",
    "        |                                - Keyword only\n",
    "         -- Positional only"
   ]
  },
  {
   "cell_type": "markdown",
   "metadata": {
    "slideshow": {
     "slide_type": "slide"
    }
   },
   "source": [
    "where `/` and `*` are optional. If used, these symbols indicate the kind\n",
    "of parameter by how the arguments may be passed to the function:\n",
    "positional-only, positional-or-keyword, and keyword-only. Keyword\n",
    "parameters are also referred to as named parameters.\n",
    "\n",
    "#### Positional-or-Keyword Arguments\n",
    "\n",
    "If `/` and `*` are not present in the function definition, arguments may\n",
    "be passed to a function by position or by keyword.\n",
    "\n",
    "#### Positional-Only Parameters\n",
    "\n",
    "Looking at this in a bit more detail, it is possible to mark certain\n",
    "parameters as *positional-only*. If *positional-only*, the parameters'\n",
    "order matters, and the parameters cannot be passed by keyword.\n",
    "Positional-only parameters are placed before a `/` (forward-slash). The\n",
    "`/` is used to logically separate the positional-only parameters from\n",
    "the rest of the parameters. If there is no `/` in the function\n",
    "definition, there are no positional-only parameters.\n",
    "\n",
    "Parameters following the `/` may be *positional-or-keyword* or\n",
    "*keyword-only*.\n",
    "\n",
    "#### Keyword-Only Arguments\n",
    "\n",
    "To mark parameters as *keyword-only*, indicating the parameters must be\n",
    "passed by keyword argument, place an `*` in the arguments list just\n",
    "before the first *keyword-only* parameter.\n",
    "\n",
    "#### Function Examples\n",
    "\n",
    "Consider the following example function definitions paying close\n",
    "attention to the markers `/` and `*` :"
   ]
  },
  {
   "cell_type": "code",
   "execution_count": null,
   "metadata": {
    "slideshow": {
     "slide_type": "slide"
    }
   },
   "outputs": [],
   "source": [
    "def standard_arg(arg):\n",
    "    print(arg)\n",
    "\n",
    "def pos_only_arg(arg, /):\n",
    "    print(arg)\n",
    "\n",
    "def kwd_only_arg(*, arg):\n",
    "    print(arg)\n",
    "\n",
    "def combined_example(pos_only, /, standard, *, kwd_only):\n",
    "    print(pos_only, standard, kwd_only)"
   ]
  },
  {
   "cell_type": "markdown",
   "metadata": {
    "slideshow": {
     "slide_type": "slide"
    }
   },
   "source": [
    "The first function definition, `standard_arg`, the most familiar form,\n",
    "places no restrictions on the calling convention and arguments may be\n",
    "passed by position or keyword:"
   ]
  },
  {
   "cell_type": "code",
   "execution_count": null,
   "metadata": {
    "slideshow": {
     "slide_type": "slide"
    }
   },
   "outputs": [],
   "source": [
    "standard_arg(2)"
   ]
  },
  {
   "cell_type": "code",
   "execution_count": null,
   "metadata": {
    "slideshow": {
     "slide_type": "slide"
    }
   },
   "outputs": [],
   "source": [
    "standard_arg(arg=2)"
   ]
  },
  {
   "cell_type": "markdown",
   "metadata": {
    "slideshow": {
     "slide_type": "slide"
    }
   },
   "source": [
    "The second function `pos_only_arg` is restricted to only use positional\n",
    "parameters as there is a `/` in the function definition:"
   ]
  },
  {
   "cell_type": "code",
   "execution_count": null,
   "metadata": {
    "slideshow": {
     "slide_type": "slide"
    }
   },
   "outputs": [],
   "source": [
    "pos_only_arg(1)"
   ]
  },
  {
   "cell_type": "code",
   "execution_count": null,
   "metadata": {
    "slideshow": {
     "slide_type": "slide"
    }
   },
   "outputs": [],
   "source": [
    "pos_only_arg(arg=1)"
   ]
  },
  {
   "cell_type": "markdown",
   "metadata": {
    "slideshow": {
     "slide_type": "slide"
    }
   },
   "source": [
    "The third function `kwd_only_args` only allows keyword arguments as\n",
    "indicated by a `*` in the function definition:"
   ]
  },
  {
   "cell_type": "code",
   "execution_count": null,
   "metadata": {
    "slideshow": {
     "slide_type": "slide"
    }
   },
   "outputs": [],
   "source": [
    "kwd_only_arg(3)"
   ]
  },
  {
   "cell_type": "code",
   "execution_count": null,
   "metadata": {
    "slideshow": {
     "slide_type": "slide"
    }
   },
   "outputs": [],
   "source": [
    "kwd_only_arg(arg=3)"
   ]
  },
  {
   "cell_type": "markdown",
   "metadata": {
    "slideshow": {
     "slide_type": "slide"
    }
   },
   "source": [
    "And the last uses all three calling conventions in the same function\n",
    "definition:"
   ]
  },
  {
   "cell_type": "code",
   "execution_count": null,
   "metadata": {
    "slideshow": {
     "slide_type": "slide"
    }
   },
   "outputs": [],
   "source": [
    "combined_example(1, 2, 3)"
   ]
  },
  {
   "cell_type": "code",
   "execution_count": null,
   "metadata": {
    "slideshow": {
     "slide_type": "slide"
    }
   },
   "outputs": [],
   "source": [
    "combined_example(1, 2, kwd_only=3)"
   ]
  },
  {
   "cell_type": "code",
   "execution_count": null,
   "metadata": {
    "slideshow": {
     "slide_type": "slide"
    }
   },
   "outputs": [],
   "source": [
    "combined_example(1, standard=2, kwd_only=3)"
   ]
  },
  {
   "cell_type": "code",
   "execution_count": null,
   "metadata": {
    "slideshow": {
     "slide_type": "slide"
    }
   },
   "outputs": [],
   "source": [
    "combined_example(pos_only=1, standard=2, kwd_only=3)"
   ]
  },
  {
   "cell_type": "markdown",
   "metadata": {
    "slideshow": {
     "slide_type": "slide"
    }
   },
   "source": [
    "Finally, consider this function definition which has a potential\n",
    "collision between the positional argument `name` and `**kwds` which has\n",
    "`name` as a key:"
   ]
  },
  {
   "cell_type": "code",
   "execution_count": null,
   "metadata": {
    "slideshow": {
     "slide_type": "slide"
    }
   },
   "outputs": [],
   "source": [
    "def foo(name, **kwds):\n",
    "    return 'name' in kwds"
   ]
  },
  {
   "cell_type": "markdown",
   "metadata": {
    "slideshow": {
     "slide_type": "slide"
    }
   },
   "source": [
    "There is no possible call that will make it return `True` as the keyword\n",
    "`'name'` will always to bind to the first parameter. For example:"
   ]
  },
  {
   "cell_type": "code",
   "execution_count": null,
   "metadata": {
    "slideshow": {
     "slide_type": "slide"
    }
   },
   "outputs": [],
   "source": [
    "foo(1, **{'name': 2})"
   ]
  },
  {
   "cell_type": "markdown",
   "metadata": {
    "slideshow": {
     "slide_type": "slide"
    }
   },
   "source": [
    "But using `/` (positional only arguments), it is possible since it\n",
    "allows `name` as a positional argument and `'name'` as a key in the\n",
    "keyword arguments:"
   ]
  },
  {
   "cell_type": "code",
   "execution_count": null,
   "metadata": {
    "slideshow": {
     "slide_type": "slide"
    }
   },
   "outputs": [],
   "source": [
    "def foo(name, /, **kwds):\n",
    "    return 'name' in kwds"
   ]
  },
  {
   "cell_type": "code",
   "execution_count": null,
   "metadata": {
    "slideshow": {
     "slide_type": "slide"
    }
   },
   "outputs": [],
   "source": [
    "foo(1, **{'name': 2})"
   ]
  },
  {
   "cell_type": "markdown",
   "metadata": {
    "slideshow": {
     "slide_type": "slide"
    }
   },
   "source": [
    "In other words, the names of positional-only parameters can be used in\n",
    "`**kwds` without ambiguity.\n",
    "\n",
    "#### Recap\n",
    "\n",
    "The use case will determine which parameters to use in the function\n",
    "definition:"
   ]
  },
  {
   "cell_type": "code",
   "execution_count": null,
   "metadata": {
    "slideshow": {
     "slide_type": "slide"
    }
   },
   "outputs": [],
   "source": [
    "def f(pos1, pos2, /, pos_or_kwd, *, kwd1, kwd2):"
   ]
  },
  {
   "cell_type": "markdown",
   "metadata": {
    "slideshow": {
     "slide_type": "slide"
    }
   },
   "source": [
    "As guidance:\n",
    "\n",
    "-   Use positional-only if you want the name of the parameters to not be\n",
    "    available to the user. This is useful when parameter names have no\n",
    "    real meaning, if you want to enforce the order of the arguments when\n",
    "    the function is called or if you need to take some positional\n",
    "    parameters and arbitrary keywords.\n",
    "-   Use keyword-only when names have meaning and the function definition\n",
    "    is more understandable by being explicit with names or you want to\n",
    "    prevent users relying on the position of the argument being passed.\n",
    "-   For an API, use positional-only to prevent breaking API changes if\n",
    "    the parameter's name is modified in the future.\n",
    "\n",
    "### Arbitrary Argument Lists\n",
    "\n",
    "single: \\* (asterisk); in function calls\n",
    "\n",
    "Finally, the least frequently used option is to specify that a function\n",
    "can be called with an arbitrary number of arguments. These arguments\n",
    "will be wrapped up in a tuple (see [tut-tuples](tut-tuples.ipynb)).\n",
    "Before the variable number of arguments, zero or more normal arguments\n",
    "may occur. :"
   ]
  },
  {
   "cell_type": "code",
   "execution_count": null,
   "metadata": {
    "slideshow": {
     "slide_type": "slide"
    }
   },
   "outputs": [],
   "source": [
    "def write_multiple_items(file, separator, *args):\n",
    "    file.write(separator.join(args))"
   ]
  },
  {
   "cell_type": "markdown",
   "metadata": {
    "slideshow": {
     "slide_type": "slide"
    }
   },
   "source": [
    "Normally, these `variadic` arguments will be last in the list of formal\n",
    "parameters, because they scoop up all remaining input arguments that are\n",
    "passed to the function. Any formal parameters which occur after the\n",
    "`*args` parameter are 'keyword-only' arguments, meaning that they can\n",
    "only be used as keywords rather than positional arguments. :"
   ]
  },
  {
   "cell_type": "code",
   "execution_count": null,
   "metadata": {
    "slideshow": {
     "slide_type": "slide"
    }
   },
   "outputs": [],
   "source": [
    "def concat(*args, sep=\"/\"):\n",
    "    return sep.join(args)\n",
    "\n",
    "concat(\"earth\", \"mars\", \"venus\")"
   ]
  },
  {
   "cell_type": "code",
   "execution_count": null,
   "metadata": {
    "slideshow": {
     "slide_type": "slide"
    }
   },
   "outputs": [],
   "source": [
    "concat(\"earth\", \"mars\", \"venus\", sep=\".\")"
   ]
  },
  {
   "cell_type": "markdown",
   "metadata": {
    "slideshow": {
     "slide_type": "slide"
    }
   },
   "source": [
    "### Unpacking Argument Lists\n",
    "\n",
    "The reverse situation occurs when the arguments are already in a list or\n",
    "tuple but need to be unpacked for a function call requiring separate\n",
    "positional arguments. For instance, the built-in `range` function\n",
    "expects separate *start* and *stop* arguments. If they are not available\n",
    "separately, write the function call with the `*`-operator to unpack the\n",
    "arguments out of a list or tuple:"
   ]
  },
  {
   "cell_type": "code",
   "execution_count": null,
   "metadata": {
    "slideshow": {
     "slide_type": "slide"
    }
   },
   "outputs": [],
   "source": [
    "list(range(3, 6))            # normal call with separate arguments"
   ]
  },
  {
   "cell_type": "code",
   "execution_count": null,
   "metadata": {
    "slideshow": {
     "slide_type": "slide"
    }
   },
   "outputs": [],
   "source": [
    "args = [3, 6]\n",
    "list(range(*args))            # call with arguments unpacked from a list"
   ]
  },
  {
   "cell_type": "markdown",
   "metadata": {
    "slideshow": {
     "slide_type": "slide"
    }
   },
   "source": [
    "single: \\*\\*; in function calls\n",
    "\n",
    "In the same fashion, dictionaries can deliver keyword arguments with the\n",
    "`**`-operator:"
   ]
  },
  {
   "cell_type": "code",
   "execution_count": null,
   "metadata": {
    "slideshow": {
     "slide_type": "slide"
    }
   },
   "outputs": [],
   "source": [
    "def parrot(voltage, state='a stiff', action='voom'):\n",
    "    print(\"-- This parrot wouldn't\", action, end=' ')\n",
    "    print(\"if you put\", voltage, \"volts through it.\", end=' ')\n",
    "    print(\"E's\", state, \"!\")\n",
    "\n",
    "d = {\"voltage\": \"four million\", \"state\": \"bleedin' demised\", \"action\": \"VOOM\"}\n",
    "parrot(**d)"
   ]
  },
  {
   "cell_type": "markdown",
   "metadata": {
    "slideshow": {
     "slide_type": "slide"
    }
   },
   "source": [
    "### Lambda Expressions\n",
    "\n",
    "Small anonymous functions can be created with the `lambda` keyword. This\n",
    "function returns the sum of its two arguments: `lambda a, b: a+b`.\n",
    "Lambda functions can be used wherever function objects are required.\n",
    "They are syntactically restricted to a single expression. Semantically,\n",
    "they are just syntactic sugar for a normal function definition. Like\n",
    "nested function definitions, lambda functions can reference variables\n",
    "from the containing scope:"
   ]
  },
  {
   "cell_type": "code",
   "execution_count": null,
   "metadata": {
    "slideshow": {
     "slide_type": "slide"
    }
   },
   "outputs": [],
   "source": [
    "def make_incrementor(n):\n",
    "    return lambda x: x + n\n",
    "\n",
    "f = make_incrementor(42)\n",
    "f(0)"
   ]
  },
  {
   "cell_type": "code",
   "execution_count": null,
   "metadata": {
    "slideshow": {
     "slide_type": "slide"
    }
   },
   "outputs": [],
   "source": [
    "f(1)"
   ]
  },
  {
   "cell_type": "markdown",
   "metadata": {
    "slideshow": {
     "slide_type": "slide"
    }
   },
   "source": [
    "The above example uses a lambda expression to return a function. Another\n",
    "use is to pass a small function as an argument:"
   ]
  },
  {
   "cell_type": "code",
   "execution_count": null,
   "metadata": {
    "slideshow": {
     "slide_type": "slide"
    }
   },
   "outputs": [],
   "source": [
    "pairs = [(1, 'one'), (2, 'two'), (3, 'three'), (4, 'four')]\n",
    "pairs.sort(key=lambda pair: pair[1])\n",
    "pairs"
   ]
  },
  {
   "cell_type": "markdown",
   "metadata": {
    "slideshow": {
     "slide_type": "slide"
    }
   },
   "source": [
    "### Documentation Strings\n",
    "\n",
    "single: docstrings single: documentation strings single: strings,\n",
    "documentation\n",
    "\n",
    "Here are some conventions about the content and formatting of\n",
    "documentation strings.\n",
    "\n",
    "The first line should always be a short, concise summary of the object's\n",
    "purpose. For brevity, it should not explicitly state the object's name\n",
    "or type, since these are available by other means (except if the name\n",
    "happens to be a verb describing a function's operation). This line\n",
    "should begin with a capital letter and end with a period.\n",
    "\n",
    "If there are more lines in the documentation string, the second line\n",
    "should be blank, visually separating the summary from the rest of the\n",
    "description. The following lines should be one or more paragraphs\n",
    "describing the object's calling conventions, its side effects, etc.\n",
    "\n",
    "The Python parser does not strip indentation from multi-line string\n",
    "literals in Python, so tools that process documentation have to strip\n",
    "indentation if desired. This is done using the following convention. The\n",
    "first non-blank line *after* the first line of the string determines the\n",
    "amount of indentation for the entire documentation string. (We can't use\n",
    "the first line since it is generally adjacent to the string's opening\n",
    "quotes so its indentation is not apparent in the string literal.)\n",
    "Whitespace \"equivalent\" to this indentation is then stripped from the\n",
    "start of all lines of the string. Lines that are indented less should\n",
    "not occur, but if they occur all their leading whitespace should be\n",
    "stripped. Equivalence of whitespace should be tested after expansion of\n",
    "tabs (to 8 spaces, normally).\n",
    "\n",
    "Here is an example of a multi-line docstring:"
   ]
  },
  {
   "cell_type": "code",
   "execution_count": null,
   "metadata": {
    "slideshow": {
     "slide_type": "slide"
    }
   },
   "outputs": [],
   "source": [
    "def my_function():\n",
    "    \"\"\"Do nothing, but document it.\n",
    "\n",
    "    No, really, it doesn't do anything.\n",
    "    \"\"\"\n",
    "    pass\n",
    "\n",
    "print(my_function.__doc__)"
   ]
  },
  {
   "cell_type": "markdown",
   "metadata": {
    "slideshow": {
     "slide_type": "slide"
    }
   },
   "source": [
    "### Function Annotations\n",
    "\n",
    "pair: function; annotations single: -\\>; function annotations single: :\n",
    "(colon); function annotations\n",
    "\n",
    "[Function annotations](function.ipynb) are completely optional metadata\n",
    "information about the types used by user-defined functions (see `3107`\n",
    "and `484` for more information).\n",
    "\n",
    "`Annotations <function annotation>` are stored in the `__annotations__`\n",
    "attribute of the function as a dictionary and have no effect on any\n",
    "other part of the function. Parameter annotations are defined by a colon\n",
    "after the parameter name, followed by an expression evaluating to the\n",
    "value of the annotation. Return annotations are defined by a literal\n",
    "`->`, followed by an expression, between the parameter list and the\n",
    "colon denoting the end of the `def` statement. The following example has\n",
    "a positional argument, a keyword argument, and the return value\n",
    "annotated:"
   ]
  },
  {
   "cell_type": "code",
   "execution_count": null,
   "metadata": {
    "slideshow": {
     "slide_type": "slide"
    }
   },
   "outputs": [],
   "source": [
    "def f(ham: str, eggs: str = 'eggs') -> str:\n",
    "    print(\"Annotations:\", f.__annotations__)\n",
    "    print(\"Arguments:\", ham, eggs)\n",
    "    return ham + ' and ' + eggs\n",
    "\n",
    "f('spam')"
   ]
  },
  {
   "cell_type": "markdown",
   "metadata": {
    "slideshow": {
     "slide_type": "slide"
    }
   },
   "source": [
    "## Intermezzo: Coding Style\n",
    "\n",
    "pair: coding; style\n",
    "\n",
    "Now that you are about to write longer, more complex pieces of Python,\n",
    "it is a good time to talk about *coding style*. Most languages can be\n",
    "written (or more concise, *formatted*) in different styles; some are\n",
    "more readable than others. Making it easy for others to read your code\n",
    "is always a good idea, and adopting a nice coding style helps\n",
    "tremendously for that.\n",
    "\n",
    "For Python, `8` has emerged as the style guide that most projects adhere\n",
    "to; it promotes a very readable and eye-pleasing coding style. Every\n",
    "Python developer should read it at some point; here are the most\n",
    "important points extracted for you:\n",
    "\n",
    "-   Use 4-space indentation, and no tabs."
   ]
  },
  {
   "cell_type": "markdown",
   "metadata": {
    "slideshow": {
     "slide_type": "slide"
    }
   },
   "source": [
    "\n",
    "    4 spaces are a good compromise between small indentation (allows\n",
    "    greater nesting depth) and large indentation (easier to read). Tabs\n",
    "    introduce confusion, and are best left out.\n"
   ]
  },
  {
   "cell_type": "markdown",
   "metadata": {
    "slideshow": {
     "slide_type": "slide"
    }
   },
   "source": [
    "-   Wrap lines so that they don't exceed 79 characters."
   ]
  },
  {
   "cell_type": "markdown",
   "metadata": {
    "slideshow": {
     "slide_type": "slide"
    }
   },
   "source": [
    "\n",
    "    This helps users with small displays and makes it possible to have\n",
    "    several code files side-by-side on larger displays.\n"
   ]
  },
  {
   "cell_type": "markdown",
   "metadata": {
    "slideshow": {
     "slide_type": "slide"
    }
   },
   "source": [
    "-   Use blank lines to separate functions and classes, and larger blocks\n",
    "    of code inside functions.\n",
    "\n",
    "-   When possible, put comments on a line of their own.\n",
    "\n",
    "-   Use docstrings.\n",
    "\n",
    "-   Use spaces around operators and after commas, but not directly\n",
    "    inside bracketing constructs: `a = f(1, 2) + g(3, 4)`.\n",
    "\n",
    "-   Name your classes and functions consistently; the convention is to\n",
    "    use `UpperCamelCase` for classes and `lowercase_with_underscores`\n",
    "    for functions and methods. Always use `self` as the name for the\n",
    "    first method argument.\n",
    "\n",
    "-   Don't use fancy encodings if your code is meant to be used in\n",
    "    international environments. Python's default, UTF-8, or even plain\n",
    "    ASCII work best in any case.\n",
    "\n",
    "-   Likewise, don't use non-ASCII characters in identifiers if there is\n",
    "    only the slightest chance people speaking a different language will\n",
    "    read or maintain the code.\n",
    "\n",
    "**Footnotes**\n",
    "\n",
    "[1] Actually, *call by object reference* would be a better description,\n",
    "since if a mutable object is passed, the caller will see any changes the\n",
    "callee makes to it (items inserted into a list)."
   ]
  }
 ],
 "metadata": {
  "celltoolbar": "Slideshow",
  "kernelspec": {
   "display_name": "Python 3",
   "language": "python",
   "name": "python3"
  },
  "language_info": {
   "codemirror_mode": {
    "name": "ipython",
    "version": 3
   },
   "file_extension": ".py",
   "mimetype": "text/x-python",
   "name": "python",
   "nbconvert_exporter": "python",
   "pygments_lexer": "ipython3",
   "version": "3.7.2"
  }
 },
 "nbformat": 4,
 "nbformat_minor": 1
}
